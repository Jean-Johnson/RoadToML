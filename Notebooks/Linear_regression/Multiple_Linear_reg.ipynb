{
 "cells": [
  {
   "cell_type": "code",
   "execution_count": null,
   "metadata": {},
   "outputs": [],
   "source": [
    "https://stackabuse.com/linear-regression-in-python-with-scikit-learn/\n",
    "https://datagy.io/python-sklearn-linear-regression/"
   ]
  }
 ],
 "metadata": {
  "language_info": {
   "name": "python"
  },
  "orig_nbformat": 4
 },
 "nbformat": 4,
 "nbformat_minor": 2
}
