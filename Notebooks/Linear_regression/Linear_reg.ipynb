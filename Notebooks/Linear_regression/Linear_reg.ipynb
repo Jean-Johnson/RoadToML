{
 "cells": [
  {
   "cell_type": "markdown",
   "metadata": {},
   "source": [
    "# Linear Regression\n",
    "I heared the term too many time so decided to do a python implementation so that i can undertand it better\n",
    "\n",
    "### What is it?\n",
    "Linear regression is a statistical method for modeling relationships between a dependent variable(Ans/Output) with a given set of independent variables(Features/The data we alread have)."
   ]
  },
  {
   "cell_type": "code",
   "execution_count": null,
   "metadata": {},
   "outputs": [],
   "source": []
  }
 ],
 "metadata": {
  "interpreter": {
   "hash": "1d2dc7b46220e3f2b3fdaa594f4baa4f4eb2d2d3e506abc14b275e2cb8a83e33"
  },
  "kernelspec": {
   "display_name": "Python 3.8.5 ('RoadToML-X13Ftkzm')",
   "language": "python",
   "name": "python3"
  },
  "language_info": {
   "codemirror_mode": {
    "name": "ipython",
    "version": 3
   },
   "file_extension": ".py",
   "mimetype": "text/x-python",
   "name": "python",
   "nbconvert_exporter": "python",
   "pygments_lexer": "ipython3",
   "version": "3.8.5"
  },
  "orig_nbformat": 4
 },
 "nbformat": 4,
 "nbformat_minor": 2
}
