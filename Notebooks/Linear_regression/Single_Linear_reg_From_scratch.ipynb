{
 "cells": [
  {
   "cell_type": "markdown",
   "metadata": {},
   "source": [
    "### Linear Regression with one Feature From Scratch\n",
    "Going to need a litle bit of knowledge about partial derivative and linear algebra"
   ]
  },
  {
   "cell_type": "markdown",
   "metadata": {},
   "source": [
    "we need to find a line that has minimum error\n",
    "\n",
    "y= mx+b , m= slope , b = y_intercept <br>\n",
    "Mean Squared Error Function : Taking the difference from all the actual points and predicted values(using slope formulae) and divided by N (mean)<br>\n",
    "$E = 1/n\\sum \\limits_{i=0} ^{h}(y_{i}-\\hat{y_{i}})^{2}    $<br>\n",
    "$\\hat{y_{i}} = Predicted Value$ <br>\n",
    "we can replace it with $\\hat{y_{i}} = mx_{i}+b$\n",
    "Then the equation becomes<br>\n",
    "$E = 1/n\\sum \\limits_{i=0} ^{h}(y_{i}-(mx_{i}+b)) ^{2}   $ <br>\n",
    "\n",
    "#### Now we need to apply Partial Derivative\n",
    "<a href=\"https://byjus.com/maths/partial-derivative/\">Check this byjus Tut</a><br>\n",
    "We want to find a line(find m and b) which gives the lowest possible Error<br>\n",
    "By taking the Partial derivative we find the steepest ascend(ie: error high) then we go to the opposite to find the minimum<br>\n",
    "$ \\frac{\\partial E}{\\partial m} =  1/n \\sum \\limits_{i=0}^{n}2(y_{i}-(m*x_{i}+b))(-x_{i}) $ <br>\n",
    "$   =  -2/n \\sum \\limits_{i=0}^{n}{x_{i}}(y_{i}-(m*x_{i}+b))$<br>\n",
    "$ \\frac{\\partial E}{\\partial b} = -2/n \\sum \\limits_{i=0}^{n}(y_{i}-(m*x_{i}+b))$ <br>\n",
    "\n",
    "If we want to imporve m and b <br>\n",
    "For each iteration do the following <br>\n",
    "The minus because we are going the opposite direction\n",
    "$m = m -L\\frac{\\partial E}{\\partial m}$ <br>\n",
    "$b = b -L\\frac{\\partial E}{\\partial b}$\n",
    "\n"
   ]
  },
  {
   "cell_type": "markdown",
   "metadata": {},
   "source": [
    "## Python implementation"
   ]
  },
  {
   "cell_type": "code",
   "execution_count": 21,
   "metadata": {},
   "outputs": [],
   "source": [
    "import pandas as pd\n",
    "import matplotlib.pyplot as plt\n",
    "from tqdm import tqdm"
   ]
  },
  {
   "cell_type": "code",
   "execution_count": 4,
   "metadata": {},
   "outputs": [
    {
     "data": {
      "text/html": [
       "<div>\n",
       "<style scoped>\n",
       "    .dataframe tbody tr th:only-of-type {\n",
       "        vertical-align: middle;\n",
       "    }\n",
       "\n",
       "    .dataframe tbody tr th {\n",
       "        vertical-align: top;\n",
       "    }\n",
       "\n",
       "    .dataframe thead th {\n",
       "        text-align: right;\n",
       "    }\n",
       "</style>\n",
       "<table border=\"1\" class=\"dataframe\">\n",
       "  <thead>\n",
       "    <tr style=\"text-align: right;\">\n",
       "      <th></th>\n",
       "      <th>YearsExperience</th>\n",
       "      <th>Salary</th>\n",
       "    </tr>\n",
       "  </thead>\n",
       "  <tbody>\n",
       "    <tr>\n",
       "      <th>0</th>\n",
       "      <td>1.1</td>\n",
       "      <td>39343</td>\n",
       "    </tr>\n",
       "    <tr>\n",
       "      <th>1</th>\n",
       "      <td>1.3</td>\n",
       "      <td>46205</td>\n",
       "    </tr>\n",
       "    <tr>\n",
       "      <th>2</th>\n",
       "      <td>1.5</td>\n",
       "      <td>37731</td>\n",
       "    </tr>\n",
       "    <tr>\n",
       "      <th>3</th>\n",
       "      <td>2.0</td>\n",
       "      <td>43525</td>\n",
       "    </tr>\n",
       "  </tbody>\n",
       "</table>\n",
       "</div>"
      ],
      "text/plain": [
       "   YearsExperience  Salary\n",
       "0              1.1   39343\n",
       "1              1.3   46205\n",
       "2              1.5   37731\n",
       "3              2.0   43525"
      ]
     },
     "execution_count": 4,
     "metadata": {},
     "output_type": "execute_result"
    }
   ],
   "source": [
    "#read dataset\n",
    "df = pd.read_csv(\"Datasets/salary_data.csv\")\n",
    "df.head(4)"
   ]
  },
  {
   "cell_type": "code",
   "execution_count": 6,
   "metadata": {},
   "outputs": [
    {
     "data": {
      "image/png": "[encoded data removed]",
      "text/plain": [
       "<Figure size 432x288 with 1 Axes>"
      ]
     },
     "metadata": {
      "needs_background": "light"
     },
     "output_type": "display_data"
    }
   ],
   "source": [
    "plt.scatter(df.iloc[:,:-1],df.iloc[:,-1])\n",
    "plt.show()"
   ]
  },
  {
   "cell_type": "code",
   "execution_count": 10,
   "metadata": {},
   "outputs": [],
   "source": [
    "#Not Going to use it \n",
    "def loss_function(m,b,points):\n",
    "    \"\"\"means_squared_error\"\"\"\n",
    "    total_error =0 \n",
    "    n = len(points)\n",
    "    for i in range(len(points)):\n",
    "        x = points.iloc[i,:0] #since only on feauture is there\n",
    "        y = points.iloc[i,:-1]\n",
    "        total_error += (y -(m*x+b)) ** 2\n",
    "    total_error /= n\n",
    "    return total_error"
   ]
  },
  {
   "cell_type": "code",
   "execution_count": 11,
   "metadata": {},
   "outputs": [],
   "source": [
    "def gradient_descent(curr_m,curr_b,points,L):\n",
    "    m_grad = 0\n",
    "    b_grad = 0\n",
    "    n=len(points)\n",
    "    for i in range(n):\n",
    "        x = points.iloc[i,0]\n",
    "        y = points.iloc[i,-1]\n",
    "        m_grad += -(2/n)*x*(y -(curr_m*x+curr_b))\n",
    "        b_grad += -(2/n)*(y -(curr_m*x+curr_b))\n",
    "    m = curr_m -m_grad*L\n",
    "    b = curr_b -b_grad*L\n",
    "    return m,b\n"
   ]
  },
  {
   "cell_type": "code",
   "execution_count": 28,
   "metadata": {},
   "outputs": [],
   "source": [
    "def training(data,m,b,learning_rate,epochs):\n",
    "    for i in tqdm(range(epochs)):\n",
    "        m,b = gradient_descent(m,b,data,learning_rate)\n",
    "    print(m,b)\n",
    "    return m, b"
   ]
  },
  {
   "cell_type": "code",
   "execution_count": 29,
   "metadata": {},
   "outputs": [
    {
     "name": "stderr",
     "output_type": "stream",
     "text": [
      "100%|██████████| 100/100 [00:00<00:00, 258.71it/s]"
     ]
    },
    {
     "name": "stdout",
     "output_type": "stream",
     "text": [
      "6770.751247220646 1107.7159999877676\n"
     ]
    },
    {
     "name": "stderr",
     "output_type": "stream",
     "text": [
      "\n"
     ]
    }
   ],
   "source": [
    "m ,b=training(df,0,0,0.0001,100)"
   ]
  },
  {
   "cell_type": "code",
   "execution_count": 31,
   "metadata": {},
   "outputs": [
    {
     "data": {
      "image/png": "[encoded data removed]",
      "text/plain": [
       "<Figure size 432x288 with 1 Axes>"
      ]
     },
     "metadata": {
      "needs_background": "light"
     },
     "output_type": "display_data"
    }
   ],
   "source": [
    "plt.scatter(df.iloc[:,:-1],df.iloc[:,-1])\n",
    "plt.plot(df.iloc[:,:-1],list(map(lambda x : m * x + b, df.iloc[:,:-1].values)))\n",
    "plt.show()"
   ]
  },
  {
   "cell_type": "code",
   "execution_count": null,
   "metadata": {},
   "outputs": [],
   "source": []
  }
 ],
 "metadata": {
  "interpreter": {
   "hash": "1d2dc7b46220e3f2b3fdaa594f4baa4f4eb2d2d3e506abc14b275e2cb8a83e33"
  },
  "kernelspec": {
   "display_name": "Python 3.8.5 ('RoadToML-X13Ftkzm')",
   "language": "python",
   "name": "python3"
  },
  "language_info": {
   "codemirror_mode": {
    "name": "ipython",
    "version": 3
   },
   "file_extension": ".py",
   "mimetype": "text/x-python",
   "name": "python",
   "nbconvert_exporter": "python",
   "pygments_lexer": "ipython3",
   "version": "3.8.5"
  },
  "orig_nbformat": 4
 },
 "nbformat": 4,
 "nbformat_minor": 2
}
