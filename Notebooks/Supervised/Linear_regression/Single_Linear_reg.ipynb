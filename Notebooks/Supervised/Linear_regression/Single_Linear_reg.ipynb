{
 "cells": [
  {
   "cell_type": "markdown",
   "metadata": {},
   "source": [
    "# Linear Regression\n",
    "I heared the term too many time so decided to do a python implementation so that i can undertand it better\n",
    "\n",
    "### What is it?\n",
    "Linear regression is a statistical method for modeling relationships between a dependent variable(Output/Target) with a given set of independent variables(Features/The data we alread have)."
   ]
  },
  {
   "cell_type": "markdown",
   "metadata": {},
   "source": [
    "#### Single Variable Linear Regression\n",
    "y = a+bx\n",
    "\n",
    "Question?.<br>\n",
    "You have a salary distrbution data. what is the best salary for a person with X experience?<br>\n",
    "<a href=\"https://s3.us-west-2.amazonaws.com/public.gamelab.fun/dataset/salary_data.csv\">Download Dataset Here</a>"
   ]
  },
  {
   "cell_type": "code",
   "execution_count": 3,
   "metadata": {},
   "outputs": [],
   "source": [
    "import pandas as pd"
   ]
  },
  {
   "cell_type": "code",
   "execution_count": 5,
   "metadata": {},
   "outputs": [
    {
     "data": {
      "text/html": [
       "<div>\n",
       "<style scoped>\n",
       "    .dataframe tbody tr th:only-of-type {\n",
       "        vertical-align: middle;\n",
       "    }\n",
       "\n",
       "    .dataframe tbody tr th {\n",
       "        vertical-align: top;\n",
       "    }\n",
       "\n",
       "    .dataframe thead th {\n",
       "        text-align: right;\n",
       "    }\n",
       "</style>\n",
       "<table border=\"1\" class=\"dataframe\">\n",
       "  <thead>\n",
       "    <tr style=\"text-align: right;\">\n",
       "      <th></th>\n",
       "      <th>YearsExperience</th>\n",
       "      <th>Salary</th>\n",
       "    </tr>\n",
       "  </thead>\n",
       "  <tbody>\n",
       "    <tr>\n",
       "      <th>0</th>\n",
       "      <td>1.1</td>\n",
       "      <td>39343</td>\n",
       "    </tr>\n",
       "    <tr>\n",
       "      <th>1</th>\n",
       "      <td>1.3</td>\n",
       "      <td>46205</td>\n",
       "    </tr>\n",
       "    <tr>\n",
       "      <th>2</th>\n",
       "      <td>1.5</td>\n",
       "      <td>37731</td>\n",
       "    </tr>\n",
       "    <tr>\n",
       "      <th>3</th>\n",
       "      <td>2.0</td>\n",
       "      <td>43525</td>\n",
       "    </tr>\n",
       "  </tbody>\n",
       "</table>\n",
       "</div>"
      ],
      "text/plain": [
       "   YearsExperience  Salary\n",
       "0              1.1   39343\n",
       "1              1.3   46205\n",
       "2              1.5   37731\n",
       "3              2.0   43525"
      ]
     },
     "execution_count": 5,
     "metadata": {},
     "output_type": "execute_result"
    }
   ],
   "source": [
    "df = pd.read_csv(\"Datasets/salary_data.csv\",encoding=\"utf-8\")\n",
    "df.head(4)"
   ]
  },
  {
   "cell_type": "code",
   "execution_count": 8,
   "metadata": {},
   "outputs": [],
   "source": [
    "x_features = df[\"YearsExperience\"].tolist()\n",
    "y_target = df[\"Salary\"].tolist()"
   ]
  },
  {
   "cell_type": "code",
   "execution_count": 10,
   "metadata": {},
   "outputs": [
    {
     "name": "stdout",
     "output_type": "stream",
     "text": [
      "lenght of dataset : 30\n"
     ]
    }
   ],
   "source": [
    "print(f\"lenght of dataset : {len(x_features)}\")"
   ]
  },
  {
   "cell_type": "markdown",
   "metadata": {},
   "source": [
    "### Visualize the dataset using scatter plot\n",
    "scatter plot need two array variables of same lenght"
   ]
  },
  {
   "cell_type": "code",
   "execution_count": 13,
   "metadata": {},
   "outputs": [],
   "source": [
    "import matplotlib.pyplot as plt"
   ]
  },
  {
   "cell_type": "code",
   "execution_count": 14,
   "metadata": {},
   "outputs": [
    {
     "data": {
      "image/png": "[encoded data removed]",
      "text/plain": [
       "<Figure size 432x288 with 1 Axes>"
      ]
     },
     "metadata": {
      "needs_background": "light"
     },
     "output_type": "display_data"
    }
   ],
   "source": [
    "plt.scatter(x_features,y_target)\n",
    "plt.show()"
   ]
  },
  {
   "cell_type": "markdown",
   "metadata": {},
   "source": [
    "## Lets Refresh some math\n",
    "\n",
    "<a href=\"https://www.khanacademy.org/math/algebra/x2f8bb11595b61c86:forms-of-linear-equations/x2f8bb11595b61c86:intro-to-slope-intercept-form/a/introduction-to-slope-intercept-form\">About slope and y-intercept</a><br>\n",
    "y = ax+b <br>\n",
    "a = slope  Slope is the ratio of the change in y over the change in x between any two points on the line. <br>\n",
    "b = y-intercept (0,y)\n",
    "\n",
    "solve for slope\n",
    "a = change in y / change in x <br>\n",
    "a = y2-y1 / x2-x1<br>\n",
    "\n",
    "Linear regression uses the relationship between the data-points to draw a straight line through all them.<br>\n",
    "This line can be used to predict future values.<br>\n",
    "#### lets try to mathematically visualize the dataset and find the slope"
   ]
  },
  {
   "cell_type": "markdown",
   "metadata": {},
   "source": [
    "#### SciPy\n",
    "```pipenv install scipy``` <br>\n",
    "SciPy is a collection of mathematical algorithms and convenience functions built on the NumPy extension of Python"
   ]
  },
  {
   "cell_type": "code",
   "execution_count": 16,
   "metadata": {},
   "outputs": [],
   "source": [
    "from scipy import stats"
   ]
  },
  {
   "cell_type": "code",
   "execution_count": 18,
   "metadata": {},
   "outputs": [
    {
     "name": "stdout",
     "output_type": "stream",
     "text": [
      "CPU times: total: 0 ns\n",
      "Wall time: 1.99 ms\n"
     ]
    }
   ],
   "source": [
    "%%time\n",
    "slope, y_intercept, r, p, std_err = stats.linregress(x_features,y_target)"
   ]
  },
  {
   "cell_type": "markdown",
   "metadata": {},
   "source": [
    "r = the coefficient of correlation <br>\n",
    "Correlation is a statistical measure that expresses the extent to which two variables are linearly related (meaning they change together at a constant rate).<br>\n",
    "The r value ranges from -1 to 1, where 0 means no relationship, and 1 (and -1) means 100% related.<br>\n",
    "Calculated by scipy\n"
   ]
  },
  {
   "cell_type": "code",
   "execution_count": 23,
   "metadata": {},
   "outputs": [
    {
     "name": "stdout",
     "output_type": "stream",
     "text": [
      "Correlation :0.9782416184887599\n",
      "y = 9449.96232145508x+25792.20019866868\n"
     ]
    }
   ],
   "source": [
    "print(f\"Correlation :{r}\")\n",
    "print(f\"y = {slope}x+{y_intercept}\")"
   ]
  },
  {
   "cell_type": "code",
   "execution_count": 26,
   "metadata": {},
   "outputs": [],
   "source": [
    "mymodel = list(map(lambda x : slope * x + y_intercept, x_features))\n",
    "# above code takes the x_features as parameter and apply it on the lambda function and returns the calculated value"
   ]
  },
  {
   "cell_type": "code",
   "execution_count": 27,
   "metadata": {},
   "outputs": [
    {
     "data": {
      "image/png": "[encoded data removed]",
      "text/plain": [
       "<Figure size 432x288 with 1 Axes>"
      ]
     },
     "metadata": {
      "needs_background": "light"
     },
     "output_type": "display_data"
    }
   ],
   "source": [
    "#visualize\n",
    "plt.scatter(x_features, y_target)\n",
    "plt.plot(x_features, mymodel)\n",
    "plt.show() "
   ]
  },
  {
   "cell_type": "code",
   "execution_count": 28,
   "metadata": {},
   "outputs": [],
   "source": [
    "#since it is a small dataset and the R value is close to 1 we can use the slope intercept form formula for prediction\n",
    "def prediction(x):\n",
    "    return slope*x + y_intercept"
   ]
  },
  {
   "cell_type": "code",
   "execution_count": 29,
   "metadata": {},
   "outputs": [
    {
     "data": {
      "text/html": [
       "<div>\n",
       "<style scoped>\n",
       "    .dataframe tbody tr th:only-of-type {\n",
       "        vertical-align: middle;\n",
       "    }\n",
       "\n",
       "    .dataframe tbody tr th {\n",
       "        vertical-align: top;\n",
       "    }\n",
       "\n",
       "    .dataframe thead th {\n",
       "        text-align: right;\n",
       "    }\n",
       "</style>\n",
       "<table border=\"1\" class=\"dataframe\">\n",
       "  <thead>\n",
       "    <tr style=\"text-align: right;\">\n",
       "      <th></th>\n",
       "      <th>YearsExperience</th>\n",
       "      <th>Salary</th>\n",
       "    </tr>\n",
       "  </thead>\n",
       "  <tbody>\n",
       "    <tr>\n",
       "      <th>0</th>\n",
       "      <td>1.1</td>\n",
       "      <td>39343</td>\n",
       "    </tr>\n",
       "    <tr>\n",
       "      <th>1</th>\n",
       "      <td>1.3</td>\n",
       "      <td>46205</td>\n",
       "    </tr>\n",
       "    <tr>\n",
       "      <th>2</th>\n",
       "      <td>1.5</td>\n",
       "      <td>37731</td>\n",
       "    </tr>\n",
       "    <tr>\n",
       "      <th>3</th>\n",
       "      <td>2.0</td>\n",
       "      <td>43525</td>\n",
       "    </tr>\n",
       "  </tbody>\n",
       "</table>\n",
       "</div>"
      ],
      "text/plain": [
       "   YearsExperience  Salary\n",
       "0              1.1   39343\n",
       "1              1.3   46205\n",
       "2              1.5   37731\n",
       "3              2.0   43525"
      ]
     },
     "execution_count": 29,
     "metadata": {},
     "output_type": "execute_result"
    }
   ],
   "source": [
    "#for testing purpose lets give x value from the dataset itself\n",
    "df.head(4)"
   ]
  },
  {
   "cell_type": "code",
   "execution_count": 33,
   "metadata": {},
   "outputs": [
    {
     "name": "stdout",
     "output_type": "stream",
     "text": [
      "y = 1.1 -> expected output  = 39343.0 -> Prediction = 36187.15875226927\n",
      "y = 1.3 -> expected output  = 46205.0 -> Prediction = 38077.15121656028\n",
      "y = 1.5 -> expected output  = 37731.0 -> Prediction = 39967.143680851295\n",
      "y = 2.0 -> expected output  = 43525.0 -> Prediction = 44692.12484157884\n"
     ]
    }
   ],
   "source": [
    "print(f'y = {df.iloc[0][\"YearsExperience\"]} -> expected output  = {df.iloc[0][\"Salary\"]} -> Prediction = {prediction(df.iloc[0][\"YearsExperience\"])}')\n",
    "print(f'y = {df.iloc[1][\"YearsExperience\"]} -> expected output  = {df.iloc[1][\"Salary\"]} -> Prediction = {prediction(df.iloc[1][\"YearsExperience\"])}')\n",
    "print(f'y = {df.iloc[2][\"YearsExperience\"]} -> expected output  = {df.iloc[2][\"Salary\"]} -> Prediction = {prediction(df.iloc[2][\"YearsExperience\"])}')\n",
    "print(f'y = {df.iloc[3][\"YearsExperience\"]} -> expected output  = {df.iloc[3][\"Salary\"]} -> Prediction = {prediction(df.iloc[3][\"YearsExperience\"])}')"
   ]
  },
  {
   "cell_type": "markdown",
   "metadata": {},
   "source": [
    "## Now lets use scikit learn to train a linera regression model"
   ]
  },
  {
   "cell_type": "code",
   "execution_count": 45,
   "metadata": {},
   "outputs": [],
   "source": [
    "import numpy as np\n",
    "import matplotlib.pyplot as plt\n",
    "from sklearn.model_selection import train_test_split"
   ]
  },
  {
   "cell_type": "code",
   "execution_count": 121,
   "metadata": {},
   "outputs": [
    {
     "data": {
      "text/html": [
       "<div>\n",
       "<style scoped>\n",
       "    .dataframe tbody tr th:only-of-type {\n",
       "        vertical-align: middle;\n",
       "    }\n",
       "\n",
       "    .dataframe tbody tr th {\n",
       "        vertical-align: top;\n",
       "    }\n",
       "\n",
       "    .dataframe thead th {\n",
       "        text-align: right;\n",
       "    }\n",
       "</style>\n",
       "<table border=\"1\" class=\"dataframe\">\n",
       "  <thead>\n",
       "    <tr style=\"text-align: right;\">\n",
       "      <th></th>\n",
       "      <th>YearsExperience</th>\n",
       "      <th>Salary</th>\n",
       "    </tr>\n",
       "  </thead>\n",
       "  <tbody>\n",
       "    <tr>\n",
       "      <th>YearsExperience</th>\n",
       "      <td>1.000000</td>\n",
       "      <td>0.978242</td>\n",
       "    </tr>\n",
       "    <tr>\n",
       "      <th>Salary</th>\n",
       "      <td>0.978242</td>\n",
       "      <td>1.000000</td>\n",
       "    </tr>\n",
       "  </tbody>\n",
       "</table>\n",
       "</div>"
      ],
      "text/plain": [
       "                 YearsExperience    Salary\n",
       "YearsExperience         1.000000  0.978242\n",
       "Salary                  0.978242  1.000000"
      ]
     },
     "execution_count": 121,
     "metadata": {},
     "output_type": "execute_result"
    }
   ],
   "source": [
    "df.corr()"
   ]
  },
  {
   "cell_type": "code",
   "execution_count": 106,
   "metadata": {},
   "outputs": [],
   "source": [
    "# x_features_array = np.array(x_features).reshape(-1,1)\n",
    "# y_target_array = np.array(y_target).reshape(-1,1)\n",
    "#x_train, x_test, y_train, y_test = train_test_split(df[\"YearsExperience\"].values.reshape(-1,1), df[\"Salary\"].values, test_size=0.2, random_state=0) #80 20 split\n",
    "x_train, x_test, y_train, y_test = train_test_split(df.iloc[:,:-1].values.reshape(-1,1), df.iloc[:,-1].values, test_size=0.2, random_state=0) #80 20 split"
   ]
  },
  {
   "cell_type": "code",
   "execution_count": 107,
   "metadata": {},
   "outputs": [],
   "source": [
    "from sklearn.linear_model import LinearRegression # importing Linear Regeression\n",
    "linear_regression_obj = LinearRegression()"
   ]
  },
  {
   "cell_type": "code",
   "execution_count": 108,
   "metadata": {},
   "outputs": [
    {
     "name": "stdout",
     "output_type": "stream",
     "text": [
      "Intercept - > 26780.09915062818\n",
      "coefficent - > [9312.57512673]\n",
      "CPU times: total: 0 ns\n",
      "Wall time: 998 µs\n"
     ]
    }
   ],
   "source": [
    "%%time\n",
    "linear_regression_model = linear_regression_obj.fit(x_train,y_train) # Training\n",
    "print(f\"Intercept - > {linear_regression_model.intercept_}\")\n",
    "print(f\"coefficent - > {linear_regression_model.coef_}\")"
   ]
  },
  {
   "cell_type": "markdown",
   "metadata": {},
   "source": [
    "The mean squre value -> the lower the value the better the model<br>\n",
    "Also R2 means coefficent of determination, 1 means its perfect"
   ]
  },
  {
   "cell_type": "code",
   "execution_count": 126,
   "metadata": {},
   "outputs": [
    {
     "name": "stdout",
     "output_type": "stream",
     "text": [
      "Root mean square Value - > 59.84128372053313\n",
      "R2 square - > 0.988169515729126\n"
     ]
    }
   ],
   "source": [
    "from sklearn import metrics\n",
    "y_pred = linear_regression_model.predict(x_test)\n",
    "print(f\"Root mean square Value - > {np.sqrt(metrics.mean_squared_error(y_test,y_pred,squared=False))}\") # this has to be low\n",
    "print(f\"R2 square - > {metrics.r2_score(y_test,y_pred)}\")"
   ]
  },
  {
   "cell_type": "code",
   "execution_count": 112,
   "metadata": {},
   "outputs": [
    {
     "name": "stdout",
     "output_type": "stream",
     "text": [
      "y = 1.1 -> expected output  = 39343.0 -> Prediction = [37023.93179003]\n",
      "y = 1.3 -> expected output  = 46205.0 -> Prediction = [38886.44681538]\n",
      "y = 1.5 -> expected output  = 37731.0 -> Prediction = [40748.96184072]\n",
      "y = 2.0 -> expected output  = 43525.0 -> Prediction = [45405.24940409]\n"
     ]
    }
   ],
   "source": [
    "#prediction\n",
    "print(f'y = {df.iloc[0][\"YearsExperience\"]} -> expected output  = {df.iloc[0][\"Salary\"]} -> Prediction = {linear_regression_model.predict([[df.iloc[0][\"YearsExperience\"]]])}')\n",
    "print(f'y = {df.iloc[1][\"YearsExperience\"]} -> expected output  = {df.iloc[1][\"Salary\"]} -> Prediction = {linear_regression_model.predict([[df.iloc[1][\"YearsExperience\"]]])}')\n",
    "print(f'y = {df.iloc[2][\"YearsExperience\"]} -> expected output  = {df.iloc[2][\"Salary\"]} -> Prediction = {linear_regression_model.predict([[df.iloc[2][\"YearsExperience\"]]])}')\n",
    "print(f'y = {df.iloc[3][\"YearsExperience\"]} -> expected output  = {df.iloc[3][\"Salary\"]} -> Prediction = {linear_regression_model.predict([[df.iloc[3][\"YearsExperience\"]]])}')"
   ]
  },
  {
   "cell_type": "code",
   "execution_count": 113,
   "metadata": {},
   "outputs": [
    {
     "data": {
      "text/plain": [
       "array([ 40748.96184072, 122699.62295594,  64961.65717022,  63099.14214487,\n",
       "       115249.56285456, 107799.50275317])"
      ]
     },
     "execution_count": 113,
     "metadata": {},
     "output_type": "execute_result"
    }
   ],
   "source": [
    "linear_regression_model.predict(x_test)"
   ]
  },
  {
   "cell_type": "markdown",
   "metadata": {},
   "source": [
    "### Now lets do some visualizing "
   ]
  },
  {
   "cell_type": "code",
   "execution_count": 115,
   "metadata": {},
   "outputs": [
    {
     "data": {
      "image/png": "[encoded data removed]",
      "text/plain": [
       "<Figure size 432x288 with 1 Axes>"
      ]
     },
     "metadata": {
      "needs_background": "light"
     },
     "output_type": "display_data"
    }
   ],
   "source": [
    "viz_train = plt\n",
    "viz_train.scatter(x_train, y_train, color='blue')\n",
    "viz_train.plot(x_train, linear_regression_model.predict(x_train), color='red')\n",
    "viz_train.title('Training set Data ScatterPlot')\n",
    "viz_train.xlabel('Years of Experince')\n",
    "viz_train.ylabel('Salary')\n",
    "viz_train.show()"
   ]
  },
  {
   "cell_type": "code",
   "execution_count": 116,
   "metadata": {},
   "outputs": [
    {
     "data": {
      "image/png": "[encoded data removed]",
      "text/plain": [
       "<Figure size 432x288 with 1 Axes>"
      ]
     },
     "metadata": {
      "needs_background": "light"
     },
     "output_type": "display_data"
    }
   ],
   "source": [
    "viz_test = plt\n",
    "viz_test.scatter(x_test, y_test, color='blue')\n",
    "viz_test.plot(x_test, linear_regression_model.predict(x_test), color='red')\n",
    "viz_test.title('Testing set Data ScatterPlot')\n",
    "viz_test.xlabel('Year of Experience')\n",
    "viz_test.ylabel('Salary')\n",
    "viz_test.show()"
   ]
  },
  {
   "cell_type": "code",
   "execution_count": null,
   "metadata": {},
   "outputs": [],
   "source": []
  },
  {
   "cell_type": "code",
   "execution_count": null,
   "metadata": {},
   "outputs": [],
   "source": []
  }
 ],
 "metadata": {
  "interpreter": {
   "hash": "1d2dc7b46220e3f2b3fdaa594f4baa4f4eb2d2d3e506abc14b275e2cb8a83e33"
  },
  "kernelspec": {
   "display_name": "Python 3.8.5 ('RoadToML-X13Ftkzm')",
   "language": "python",
   "name": "python3"
  },
  "language_info": {
   "codemirror_mode": {
    "name": "ipython",
    "version": 3
   },
   "file_extension": ".py",
   "mimetype": "text/x-python",
   "name": "python",
   "nbconvert_exporter": "python",
   "pygments_lexer": "ipython3",
   "version": "3.8.5"
  },
  "orig_nbformat": 4
 },
 "nbformat": 4,
 "nbformat_minor": 2
}
